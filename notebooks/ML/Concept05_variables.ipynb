{
 "cells": [
  {
   "cell_type": "markdown",
   "metadata": {},
   "source": [
    "# Ch `02`: Concept `05`"
   ]
  },
  {
   "cell_type": "markdown",
   "metadata": {},
   "source": [
    "## Using variables"
   ]
  },
  {
   "cell_type": "markdown",
   "metadata": {},
   "source": [
    "Here we go, here we go, here we go! Moving on from those simple examples, let's get a better understanding of variables. Start with a session:"
   ]
  },
  {
   "cell_type": "code",
   "execution_count": 1,
   "metadata": {},
   "outputs": [],
   "source": [
    "import tensorflow as tf\n",
    "sess = tf.InteractiveSession()"
   ]
  },
  {
   "cell_type": "markdown",
   "metadata": {},
   "source": [
    "Below is a series of numbers. Don't worry what they mean. Just for fun, let's think of them as neural activations."
   ]
  },
  {
   "cell_type": "code",
   "execution_count": 2,
   "metadata": {
    "collapsed": true
   },
   "outputs": [],
   "source": [
    "raw_data = [1., 2., 8., -1., 0., 5.5, 6., 13]"
   ]
  },
  {
   "cell_type": "markdown",
   "metadata": {
    "collapsed": true
   },
   "source": [
    "Create a boolean variable called `spike` to detect a sudden increase in the values.\n",
    "\n",
    "All variables must be initialized. Go ahead and initialize the variable by calling `run()` on its `initializer`:"
   ]
  },
  {
   "cell_type": "code",
   "execution_count": 3,
   "metadata": {},
   "outputs": [],
   "source": [
    "spike = tf.Variable(False)\n",
    "spike.initializer.run()"
   ]
  },
  {
   "cell_type": "markdown",
   "metadata": {},
   "source": [
    "Loop through the data and update the spike variable when there is a significant increase:"
   ]
  },
  {
   "cell_type": "code",
   "execution_count": 4,
   "metadata": {},
   "outputs": [
    {
     "name": "stdout",
     "output_type": "stream",
     "text": [
      "Spike False\n",
      "Spike True\n",
      "Spike False\n",
      "Spike False\n",
      "Spike True\n",
      "Spike False\n",
      "Spike True\n"
     ]
    }
   ],
   "source": [
    "for i in range(1, len(raw_data)):\n",
    "    if raw_data[i] - raw_data[i-1] > 5:\n",
    "        updater = tf.assign(spike, tf.constant(True))\n",
    "        updater.eval()\n",
    "    else:\n",
    "        tf.assign(spike, False).eval()\n",
    "    print(\"Spike\", spike.eval())"
   ]
  },
  {
   "cell_type": "markdown",
   "metadata": {},
   "source": [
    "You forgot to close the session! Here, let me do it:"
   ]
  },
  {
   "cell_type": "code",
   "execution_count": 1,
   "metadata": {},
   "outputs": [
    {
     "ename": "NameError",
     "evalue": "name 'sess' is not defined",
     "output_type": "error",
     "traceback": [
      "\u001b[0;31m---------------------------------------------------------------------------\u001b[0m",
      "\u001b[0;31mNameError\u001b[0m                                 Traceback (most recent call last)",
      "\u001b[0;32m/tmp/ipykernel_267/2017321283.py\u001b[0m in \u001b[0;36m<module>\u001b[0;34m\u001b[0m\n\u001b[0;32m----> 1\u001b[0;31m \u001b[0msess\u001b[0m\u001b[0;34m.\u001b[0m\u001b[0mclose\u001b[0m\u001b[0;34m(\u001b[0m\u001b[0;34m)\u001b[0m\u001b[0;34m\u001b[0m\u001b[0;34m\u001b[0m\u001b[0m\n\u001b[0m",
      "\u001b[0;31mNameError\u001b[0m: name 'sess' is not defined"
     ]
    }
   ],
   "source": [
    "sess.close()"
   ]
  },
  {
   "cell_type": "code",
   "execution_count": 5,
   "metadata": {},
   "outputs": [
    {
     "name": "stdout",
     "output_type": "stream",
     "text": [
      "Spike False\n",
      "Spike True\n",
      "Spike False\n",
      "Spike False\n",
      "Spike True\n",
      "Spike False\n",
      "Spike True\n"
     ]
    }
   ],
   "source": [
    "import tensorflow as tf\n",
    "with tf.compat.v1.Session(config=tf.compat.v1.ConfigProto(log_device_placement=False)) as sess:\n",
    "    raw_data = [1., 2., 8., -1., 0., 5.5, 6., 13]\n",
    "    spike = tf.Variable(False)\n",
    "    spike.initializer.run()\n",
    "    for i in range(1, len(raw_data)):\n",
    "        if raw_data[i] - raw_data[i-1] > 5:\n",
    "            updater = tf.compat.v1.assign(spike, tf.constant(True))\n",
    "            updater.eval()\n",
    "        else:\n",
    "            tf.compat.v1.assign(spike, False).eval()\n",
    "        print(\"Spike\", spike.eval())"
   ]
  },
  {
   "cell_type": "code",
   "execution_count": null,
   "metadata": {},
   "outputs": [],
   "source": []
  }
 ],
 "metadata": {
  "kernelspec": {
   "display_name": "Python 3 (ipykernel)",
   "language": "python",
   "name": "python3"
  },
  "language_info": {
   "codemirror_mode": {
    "name": "ipython",
    "version": 3
   },
   "file_extension": ".py",
   "mimetype": "text/x-python",
   "name": "python",
   "nbconvert_exporter": "python",
   "pygments_lexer": "ipython3",
   "version": "3.9.15"
  }
 },
 "nbformat": 4,
 "nbformat_minor": 1
}
